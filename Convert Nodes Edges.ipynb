{
 "cells": [
  {
   "cell_type": "code",
   "execution_count": 1,
   "metadata": {},
   "outputs": [],
   "source": [
    "import pandas as pd\n",
    "import numpy as np\n",
    "import matplotlib.pyplot as plt\n",
    "\n",
    "df = pd.read_csv(\"netflix_titles.csv\")"
   ]
  },
  {
   "cell_type": "code",
   "execution_count": 4,
   "metadata": {},
   "outputs": [
    {
     "data": {
      "text/html": [
       "<div>\n",
       "<style scoped>\n",
       "    .dataframe tbody tr th:only-of-type {\n",
       "        vertical-align: middle;\n",
       "    }\n",
       "\n",
       "    .dataframe tbody tr th {\n",
       "        vertical-align: top;\n",
       "    }\n",
       "\n",
       "    .dataframe thead th {\n",
       "        text-align: right;\n",
       "    }\n",
       "</style>\n",
       "<table border=\"1\" class=\"dataframe\">\n",
       "  <thead>\n",
       "    <tr style=\"text-align: right;\">\n",
       "      <th></th>\n",
       "      <th>show_id</th>\n",
       "      <th>type</th>\n",
       "      <th>title</th>\n",
       "      <th>director</th>\n",
       "      <th>cast</th>\n",
       "      <th>country</th>\n",
       "      <th>date_added</th>\n",
       "      <th>release_year</th>\n",
       "      <th>rating</th>\n",
       "      <th>duration</th>\n",
       "      <th>listed_in</th>\n",
       "      <th>description</th>\n",
       "    </tr>\n",
       "  </thead>\n",
       "  <tbody>\n",
       "    <tr>\n",
       "      <td>0</td>\n",
       "      <td>81145628</td>\n",
       "      <td>Movie</td>\n",
       "      <td>Norm of the North: King Sized Adventure</td>\n",
       "      <td>Richard Finn, Tim Maltby</td>\n",
       "      <td>Alan Marriott, Andrew Toth, Brian Dobson, Cole...</td>\n",
       "      <td>United States, India, South Korea, China</td>\n",
       "      <td>September 9, 2019</td>\n",
       "      <td>2019</td>\n",
       "      <td>TV-PG</td>\n",
       "      <td>90 min</td>\n",
       "      <td>Children &amp; Family Movies, Comedies</td>\n",
       "      <td>Before planning an awesome wedding for his gra...</td>\n",
       "    </tr>\n",
       "    <tr>\n",
       "      <td>1</td>\n",
       "      <td>80117401</td>\n",
       "      <td>Movie</td>\n",
       "      <td>Jandino: Whatever it Takes</td>\n",
       "      <td>NaN</td>\n",
       "      <td>Jandino Asporaat</td>\n",
       "      <td>United Kingdom</td>\n",
       "      <td>September 9, 2016</td>\n",
       "      <td>2016</td>\n",
       "      <td>TV-MA</td>\n",
       "      <td>94 min</td>\n",
       "      <td>Stand-Up Comedy</td>\n",
       "      <td>Jandino Asporaat riffs on the challenges of ra...</td>\n",
       "    </tr>\n",
       "    <tr>\n",
       "      <td>2</td>\n",
       "      <td>70234439</td>\n",
       "      <td>TV Show</td>\n",
       "      <td>Transformers Prime</td>\n",
       "      <td>NaN</td>\n",
       "      <td>Peter Cullen, Sumalee Montano, Frank Welker, J...</td>\n",
       "      <td>United States</td>\n",
       "      <td>September 8, 2018</td>\n",
       "      <td>2013</td>\n",
       "      <td>TV-Y7-FV</td>\n",
       "      <td>1 Season</td>\n",
       "      <td>Kids' TV</td>\n",
       "      <td>With the help of three human allies, the Autob...</td>\n",
       "    </tr>\n",
       "    <tr>\n",
       "      <td>3</td>\n",
       "      <td>80058654</td>\n",
       "      <td>TV Show</td>\n",
       "      <td>Transformers: Robots in Disguise</td>\n",
       "      <td>NaN</td>\n",
       "      <td>Will Friedle, Darren Criss, Constance Zimmer, ...</td>\n",
       "      <td>United States</td>\n",
       "      <td>September 8, 2018</td>\n",
       "      <td>2016</td>\n",
       "      <td>TV-Y7</td>\n",
       "      <td>1 Season</td>\n",
       "      <td>Kids' TV</td>\n",
       "      <td>When a prison ship crash unleashes hundreds of...</td>\n",
       "    </tr>\n",
       "    <tr>\n",
       "      <td>4</td>\n",
       "      <td>80125979</td>\n",
       "      <td>Movie</td>\n",
       "      <td>#realityhigh</td>\n",
       "      <td>Fernando Lebrija</td>\n",
       "      <td>Nesta Cooper, Kate Walsh, John Michael Higgins...</td>\n",
       "      <td>United States</td>\n",
       "      <td>September 8, 2017</td>\n",
       "      <td>2017</td>\n",
       "      <td>TV-14</td>\n",
       "      <td>99 min</td>\n",
       "      <td>Comedies</td>\n",
       "      <td>When nerdy high schooler Dani finally attracts...</td>\n",
       "    </tr>\n",
       "  </tbody>\n",
       "</table>\n",
       "</div>"
      ],
      "text/plain": [
       "    show_id     type                                    title  \\\n",
       "0  81145628    Movie  Norm of the North: King Sized Adventure   \n",
       "1  80117401    Movie               Jandino: Whatever it Takes   \n",
       "2  70234439  TV Show                       Transformers Prime   \n",
       "3  80058654  TV Show         Transformers: Robots in Disguise   \n",
       "4  80125979    Movie                             #realityhigh   \n",
       "\n",
       "                   director  \\\n",
       "0  Richard Finn, Tim Maltby   \n",
       "1                       NaN   \n",
       "2                       NaN   \n",
       "3                       NaN   \n",
       "4          Fernando Lebrija   \n",
       "\n",
       "                                                cast  \\\n",
       "0  Alan Marriott, Andrew Toth, Brian Dobson, Cole...   \n",
       "1                                   Jandino Asporaat   \n",
       "2  Peter Cullen, Sumalee Montano, Frank Welker, J...   \n",
       "3  Will Friedle, Darren Criss, Constance Zimmer, ...   \n",
       "4  Nesta Cooper, Kate Walsh, John Michael Higgins...   \n",
       "\n",
       "                                    country         date_added  release_year  \\\n",
       "0  United States, India, South Korea, China  September 9, 2019          2019   \n",
       "1                            United Kingdom  September 9, 2016          2016   \n",
       "2                             United States  September 8, 2018          2013   \n",
       "3                             United States  September 8, 2018          2016   \n",
       "4                             United States  September 8, 2017          2017   \n",
       "\n",
       "     rating  duration                           listed_in  \\\n",
       "0     TV-PG    90 min  Children & Family Movies, Comedies   \n",
       "1     TV-MA    94 min                     Stand-Up Comedy   \n",
       "2  TV-Y7-FV  1 Season                            Kids' TV   \n",
       "3     TV-Y7  1 Season                            Kids' TV   \n",
       "4     TV-14    99 min                            Comedies   \n",
       "\n",
       "                                         description  \n",
       "0  Before planning an awesome wedding for his gra...  \n",
       "1  Jandino Asporaat riffs on the challenges of ra...  \n",
       "2  With the help of three human allies, the Autob...  \n",
       "3  When a prison ship crash unleashes hundreds of...  \n",
       "4  When nerdy high schooler Dani finally attracts...  "
      ]
     },
     "execution_count": 4,
     "metadata": {},
     "output_type": "execute_result"
    }
   ],
   "source": [
    "df.head()"
   ]
  },
  {
   "cell_type": "code",
   "execution_count": 9,
   "metadata": {},
   "outputs": [
    {
     "data": {
      "text/plain": [
       "<matplotlib.axes._subplots.AxesSubplot at 0x195f87370c8>"
      ]
     },
     "execution_count": 9,
     "metadata": {},
     "output_type": "execute_result"
    },
    {
     "data": {
      "image/png": "[encoded data removed]",
      "text/plain": [
       "<Figure size 432x288 with 1 Axes>"
      ]
     },
     "metadata": {
      "needs_background": "light"
     },
     "output_type": "display_data"
    }
   ],
   "source": [
    "df[\"type\"].value_counts().plot(kind=\"bar\")"
   ]
  },
  {
   "cell_type": "code",
   "execution_count": 38,
   "metadata": {},
   "outputs": [],
   "source": [
    "import pandas as pd\n",
    "import numpy as np\n",
    "import matplotlib.pyplot as plt\n",
    "\n",
    "df = pd.read_csv(\"netflix_titles.csv\")\n",
    "\n",
    "nodes = []\n",
    "\n",
    "# Create nodes\n",
    "for i in range(len(df)):\n",
    "    show_id = df[\"show_id\"][i]\n",
    "    type = df[\"type\"][i]\n",
    "    title = df[\"title\"][i]\n",
    "    directors = df[\"director\"][i]\n",
    "    casts = df[\"cast\"][i]\n",
    "    countries = df[\"country\"][i]\n",
    "    date_added = df[\"date_added\"][i]\n",
    "    release_year = df[\"release_year\"][i]\n",
    "    rating = df[\"rating\"][i]\n",
    "    duration = df[\"duration\"][i]\n",
    "    categories = df[\"listed_in\"][i]\n",
    "    description = df[\"description\"][i]\n",
    "    \n",
    "    show = {\"node_type\": \"show\",\n",
    "            \"show_id\": show_id, \"type\": type, \"label\": title, \"date_added\": date_added, \n",
    "            \"release_year\": release_year, \"rating\": rating,\n",
    "            \"duration\": duration, \"description\": description}\n",
    "    \n",
    "    nodes.append(show)\n",
    "    \n",
    "    if str(directors) != \"nan\":\n",
    "        for director in str(directors).split(\", \"):\n",
    "            person = {\"node_type\": \"person\", \"label\": director, \"type\": \"director\"}\n",
    "            if person not in nodes:\n",
    "                nodes.append(person)\n",
    "                \n",
    "    if str(casts) != \"nan\":\n",
    "        for cast in str(casts).split(\", \"):\n",
    "            person = {\"node_type\": \"person\", \"label\": cast, \"type\": \"cast\"}\n",
    "            if person not in nodes:\n",
    "                nodes.append(person)\n",
    "                \n",
    "    if str(countries) != \"nan\":\n",
    "        for country in str(countries).split(\", \"):\n",
    "            c = {\"node_type\": \"country\", \"label\": country}\n",
    "            if c not in nodes:\n",
    "                nodes.append(c)\n",
    "                \n",
    "    if str(categories) != \"nan\":\n",
    "        for category in str(categories).split(\", \"):\n",
    "            cat = {\"node_type\": \"category\", \"label\": category}\n",
    "            if cat not in nodes:\n",
    "                nodes.append(cat)\n",
    "\n",
    "id = 0\n",
    "\n",
    "for node in nodes:\n",
    "    node[\"node_id\"] = id\n",
    "    id += 1"
   ]
  },
  {
   "cell_type": "code",
   "execution_count": 39,
   "metadata": {},
   "outputs": [
    {
     "data": {
      "text/plain": [
       "37449"
      ]
     },
     "execution_count": 39,
     "metadata": {},
     "output_type": "execute_result"
    }
   ],
   "source": [
    "len(nodes)"
   ]
  },
  {
   "cell_type": "code",
   "execution_count": 45,
   "metadata": {},
   "outputs": [],
   "source": [
    "edges = []\n",
    "# Create Edges\n",
    "for i in range(len(df)):\n",
    "    title = df[\"title\"][i]\n",
    "    directors = df[\"director\"][i]\n",
    "    casts = df[\"cast\"][i]\n",
    "    countries = df[\"country\"][i]\n",
    "    categories = df[\"listed_in\"][i]\n",
    "    \n",
    "    for node in nodes:\n",
    "        if node[\"node_type\"] == \"show\" and node[\"label\"] == title:\n",
    "            title_id = node[\"node_id\"]\n",
    "            \n",
    "        if str(directors) != \"nan\":\n",
    "            for director in str(directors).split(\", \"):\n",
    "                if node[\"node_type\"] == \"person\" and node[\"label\"] == director:\n",
    "                    director_id = node[\"node_id\"]\n",
    "                    \n",
    "                    edge = {\"source\": director_id, \"target\": title_id, \"label\": \"directs\"}\n",
    "                    edges.append(edge)\n",
    "                    \n",
    "                    \n",
    "        if str(casts) != \"nan\":\n",
    "            for cast in str(casts).split(\", \"):\n",
    "                if node[\"node_type\"] == \"person\" and node[\"label\"] == cast:\n",
    "                    cast_id = node[\"node_id\"]\n",
    "                    \n",
    "                    edge = {\"source\": cast_id, \"target\": title_id, \"label\": \"acts in\"}\n",
    "                    edges.append(edge)\n",
    "                    \n",
    "        if str(countries) != \"nan\":\n",
    "            for country in str(countries).split(\", \"):\n",
    "                if node[\"node_type\"] == \"country\" and node[\"label\"] == country:\n",
    "                    country_id = node[\"node_id\"]\n",
    "                    \n",
    "                    edge = {\"source\": title_id, \"target\": country_id, \"label\": \"available in\"}\n",
    "                    edges.append(edge)\n",
    "                    \n",
    "        if str(categories) != \"nan\":\n",
    "            for category in str(categories).split(\", \"):\n",
    "                if node[\"node_type\"] == \"category\" and node[\"label\"] == category:\n",
    "                    category_id = node[\"node_id\"]\n",
    "                    \n",
    "                    edge = {\"source\": title_id, \"target\": category_id, \"label\": \"belongs in\"}\n",
    "                    edges.append(edge)\n",
    "        "
   ]
  },
  {
   "cell_type": "code",
   "execution_count": 46,
   "metadata": {},
   "outputs": [
    {
     "data": {
      "text/plain": [
       "71383"
      ]
     },
     "execution_count": 46,
     "metadata": {},
     "output_type": "execute_result"
    }
   ],
   "source": [
    "len(edges)"
   ]
  },
  {
   "cell_type": "code",
   "execution_count": 59,
   "metadata": {},
   "outputs": [],
   "source": [
    "def ifna(key):\n",
    "    if key in node:\n",
    "        var = node[key]\n",
    "    else:\n",
    "        var = \"\"\n",
    "    return var\n",
    "        \n",
    "nodes_list = []\n",
    "\n",
    "for node in nodes:\n",
    "    node_id = node[\"node_id\"]\n",
    "    node_type = node[\"node_type\"]\n",
    "    label = node[\"label\"]\n",
    "    \n",
    "    type = ifna(\"type\")\n",
    "    release_year = ifna(\"release_year\")\n",
    "    date_added = ifna(\"date_added\")\n",
    "    rating = ifna(\"rating\")\n",
    "    duration = ifna(\"duration\")\n",
    "    description = ifna(\"description\")\n",
    "    \n",
    "    node_row = [node_id, node_type, label, type, date_added, release_year, rating, duration, description]\n",
    "    nodes_list.append(node_row)"
   ]
  },
  {
   "cell_type": "code",
   "execution_count": 60,
   "metadata": {},
   "outputs": [
    {
     "data": {
      "text/plain": [
       "[[0,\n",
       "  'show',\n",
       "  'Norm of the North: King Sized Adventure',\n",
       "  'Movie',\n",
       "  '',\n",
       "  2019,\n",
       "  'TV-PG',\n",
       "  '90 min',\n",
       "  'Before planning an awesome wedding for his grandfather, a polar bear king must take back a stolen artifact from an evil archaeologist first.'],\n",
       " [1, 'person', 'Richard Finn', 'director', '', '', '', '', ''],\n",
       " [2, 'person', 'Tim Maltby', 'director', '', '', '', '', ''],\n",
       " [3, 'person', 'Alan Marriott', 'cast', '', '', '', '', ''],\n",
       " [4, 'person', 'Andrew Toth', 'cast', '', '', '', '', '']]"
      ]
     },
     "execution_count": 60,
     "metadata": {},
     "output_type": "execute_result"
    }
   ],
   "source": [
    "nodes_list[0:5]"
   ]
  },
  {
   "cell_type": "code",
   "execution_count": 63,
   "metadata": {},
   "outputs": [],
   "source": [
    "import csv\n",
    "\n",
    "with open(\"nodes.csv\", \"w\", newline=\"\", encoding=\"utf-8\") as file:\n",
    "    header = [\"node_id\", \"node_type\", \"label\", \"type\", \"date_added\", \"release_year\", \"rating\", \"duration\", \"description\"]\n",
    "    \n",
    "    writer = csv.writer(file)\n",
    "    writer.writerow(header)\n",
    "    writer.writerows(nodes_list)"
   ]
  },
  {
   "cell_type": "code",
   "execution_count": 67,
   "metadata": {},
   "outputs": [],
   "source": [
    "edges_list = []\n",
    "\n",
    "for edge in edges:\n",
    "    source = edge[\"source\"]\n",
    "    target = edge[\"target\"]\n",
    "    label = edge[\"label\"]\n",
    "    \n",
    "    edge_row = [source, target, label]\n",
    "    edges_list.append(edge_row)"
   ]
  },
  {
   "cell_type": "code",
   "execution_count": null,
   "metadata": {},
   "outputs": [],
   "source": [
    "edges_list[0:5]"
   ]
  },
  {
   "cell_type": "code",
   "execution_count": 70,
   "metadata": {},
   "outputs": [],
   "source": [
    "with open(\"edges.csv\", \"w\", newline=\"\", encoding=\"utf-8\") as file:\n",
    "    header = [\"source\", \"target\", \"label\"]\n",
    "    \n",
    "    writer = csv.writer(file)\n",
    "    writer.writerow(header)\n",
    "    writer.writerows(edges_list)"
   ]
  }
 ],
 "metadata": {
  "kernelspec": {
   "display_name": "Python 3",
   "language": "python",
   "name": "python3"
  },
  "language_info": {
   "codemirror_mode": {
    "name": "ipython",
    "version": 3
   },
   "file_extension": ".py",
   "mimetype": "text/x-python",
   "name": "python",
   "nbconvert_exporter": "python",
   "pygments_lexer": "ipython3",
   "version": "3.8.3"
  }
 },
 "nbformat": 4,
 "nbformat_minor": 2
}
